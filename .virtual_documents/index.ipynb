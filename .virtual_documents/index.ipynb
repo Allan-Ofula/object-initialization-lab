














# Define Driver class here

class Driver:
    def __init__(self, first, last, occupation="driving"):
        self.first = first
        self.last = last
        self.occupation = occupation





dale_earnhardt =  Driver("Dale", "Earnhardt") # Initialize Dale Earnhardt here
print(dale_earnhardt.first) # "Dale"
print(dale_earnhardt.last) # "Earnhardt"
print(dale_earnhardt.occupation) # "driving"





# Define Passenger class here

class Passenger:
    def __init__(self, first, last, email, rides_taken=0):
        self.first = first
        self.last = last
        self.email = email
        self.rides_taken = rides_taken





jerry = Passenger("Jerry", "Seinfeld", "jerry.seinfeld@mailinator.com") # Initialize Mr. Seinfeld here
print(jerry.first) # "Jerry"
print(jerry.last) # "Seinfeld"
print(jerry.email) # "jerry.seinfeld@mailinator.com"
print(jerry.rides_taken) # 0









